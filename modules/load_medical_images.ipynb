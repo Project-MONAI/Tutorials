{
 "cells": [
  {
   "cell_type": "markdown",
   "metadata": {},
   "source": [
    "# Load medical images\n",
    "\n",
    "This notebook introduces how to easily load different formats of medical images in MONAI and execute many additional operations.\n",
    "\n",
    "[![Open In Colab](https://colab.research.google.com/assets/colab-badge.svg)](https://colab.research.google.com/github/Project-MONAI/tutorials/blob/master/modules/load_medical_images.ipynb)"
   ]
  },
  {
   "cell_type": "markdown",
   "metadata": {},
   "source": [
    "## Setup environment"
   ]
  },
  {
   "cell_type": "code",
   "execution_count": 3,
   "metadata": {
    "tags": []
   },
   "outputs": [],
   "source": [
    "!python -c \"import monai\" || pip install -q monai[itk, pillow]"
   ]
  },
  {
   "cell_type": "markdown",
   "metadata": {},
   "source": [
    "## Setup imports"
   ]
  },
  {
   "cell_type": "code",
   "execution_count": null,
   "metadata": {
    "tags": []
   },
   "outputs": [],
   "source": [
    "# Copyright 2020 MONAI Consortium\n",
    "# Licensed under the Apache License, Version 2.0 (the \"License\");\n",
    "# you may not use this file except in compliance with the License.\n",
    "# You may obtain a copy of the License at\n",
    "#     http://www.apache.org/licenses/LICENSE-2.0\n",
    "# Unless required by applicable law or agreed to in writing, software\n",
    "# distributed under the License is distributed on an \"AS IS\" BASIS,\n",
    "# WITHOUT WARRANTIES OR CONDITIONS OF ANY KIND, either express or implied.\n",
    "# See the License for the specific language governing permissions and\n",
    "# limitations under the License.\n",
    "\n",
    "# Copyright 2020 MONAI Consortium\n",
    "# Licensed under the Apache License, Version 2.0 (the \"License\");\n",
    "# you may not use this file except in compliance with the License.\n",
    "# You may obtain a copy of the License at\n",
    "#     http://www.apache.org/licenses/LICENSE-2.0\n",
    "# Unless required by applicable law or agreed to in writing, software\n",
    "# distributed under the License is distributed on an \"AS IS\" BASIS,\n",
    "# WITHOUT WARRANTIES OR CONDITIONS OF ANY KIND, either express or implied.\n",
    "# See the License for the specific language governing permissions and\n",
    "# limitations under the License.\n",
    "\n",
    "import os\n",
    "import shutil\n",
    "import numpy as np\n",
    "import itk\n",
    "from PIL import Image\n",
    "import tempfile\n",
    "from monai.data import ITKReader, PILReader\n",
    "from monai.transforms import (\n",
    "    LoadImage, LoadImaged, AddChanneld,\n",
    "    Resized, ToTensord, Compose\n",
    ")\n",
    "from monai.config import print_config\n",
    "\n",
    "print_config()"
   ]
  },
  {
   "cell_type": "markdown",
   "metadata": {},
   "source": [
    "## Load Nifti image with default image reader\n",
    "MONAI automatically choose readers based on the supported suffixes and in below order:\n",
    "- User specified reader at runtime when call this loader.\n",
    "- Registered readers from the latest to the first in list.\n",
    "- Default readers: (nii, nii.gz -> NibabelReader), (png, jpg, bmp -> PILReader),\n",
    "  (npz, npy -> NumpyReader), (others -> ITKReader)."
   ]
  },
  {
   "cell_type": "code",
   "execution_count": null,
   "metadata": {
    "tags": []
   },
   "outputs": [],
   "source": [
    "# generate 3D test images\n",
    "tempdir = tempfile.mkdtemp()\n",
    "test_image = np.random.rand(64, 128, 96)\n",
    "filename = os.path.join(tempdir, \"test_image.nii.gz\")\n",
    "itk_np_view = itk.image_view_from_array(test_image)\n",
    "itk.imwrite(itk_np_view, filename)\n",
    "data, meta = LoadImage()(filename)\n",
    "\n",
    "print(f\"image data shape:{data.shape}\")\n",
    "print(f\"meta data:{meta}\")"
   ]
  },
  {
   "cell_type": "markdown",
   "metadata": {},
   "source": [
    "## Load a list of Nifti images and stack as 1 training item\n",
    "Loading a list of files, stack them together and add a new dimension as first dimension.\n",
    "\n",
    "And use the meta data of the first image to represent the stacked result."
   ]
  },
  {
   "cell_type": "code",
   "execution_count": null,
   "metadata": {},
   "outputs": [],
   "source": [
    "filenames = [\"test_image.nii.gz\", \"test_image2.nii.gz\", \"test_image3.nii.gz\"]\n",
    "for i, name in enumerate(filenames):\n",
    "    filenames[i] = os.path.join(tempdir, name)\n",
    "    itk_np_view = itk.image_view_from_array(test_image)\n",
    "    itk.imwrite(itk_np_view, filenames[i])\n",
    "data, meta = LoadImage()(filenames)\n",
    "\n",
    "print(f\"image data shape:{data.shape}\")\n",
    "print(f\"meta data:{meta}\")"
   ]
  },
  {
   "cell_type": "markdown",
   "metadata": {},
   "source": [
    "## Load 3D image in DICOM format"
   ]
  },
  {
   "cell_type": "code",
   "execution_count": null,
   "metadata": {},
   "outputs": [],
   "source": [
    "filename = os.path.join(tempdir, \"test_image.dcm\")\n",
    "dcm_image = np.random.randint(256, size=(64, 128, 96)).astype(np.uint8())\n",
    "itk_np_view = itk.image_view_from_array(dcm_image)\n",
    "itk.imwrite(itk_np_view, filename)\n",
    "data, meta = LoadImage()(filename)\n",
    "\n",
    "print(f\"image data shape:{data.shape}\")\n",
    "print(f\"meta data:{meta}\")"
   ]
  },
  {
   "cell_type": "markdown",
   "metadata": {},
   "source": [
    "## Load a list of DICOM images and stack as 1 training item\n",
    "Loading a list of files, stack them together and add a new dimension as first dimension.\n",
    "\n",
    "And use the meta data of the first image to represent the stacked result."
   ]
  },
  {
   "cell_type": "code",
   "execution_count": 2,
   "metadata": {},
   "outputs": [
    {
     "ename": "NameError",
     "evalue": "name 'os' is not defined",
     "output_type": "error",
     "traceback": [
      "\u001b[0;31m---------------------------------------------------------------------------\u001b[0m",
      "\u001b[0;31mNameError\u001b[0m                                 Traceback (most recent call last)",
      "\u001b[0;32m<ipython-input-2-4506178db665>\u001b[0m in \u001b[0;36m<module>\u001b[0;34m\u001b[0m\n\u001b[1;32m      1\u001b[0m \u001b[0mfilenames\u001b[0m \u001b[0;34m=\u001b[0m \u001b[0;34m[\u001b[0m\u001b[0;34m\"test_image.dcm\"\u001b[0m\u001b[0;34m,\u001b[0m \u001b[0;34m\"test_image2.dcm\"\u001b[0m\u001b[0;34m,\u001b[0m \u001b[0;34m\"test_image3.dcm\"\u001b[0m\u001b[0;34m]\u001b[0m\u001b[0;34m\u001b[0m\u001b[0;34m\u001b[0m\u001b[0m\n\u001b[1;32m      2\u001b[0m \u001b[0;32mfor\u001b[0m \u001b[0mi\u001b[0m\u001b[0;34m,\u001b[0m \u001b[0mname\u001b[0m \u001b[0;32min\u001b[0m \u001b[0menumerate\u001b[0m\u001b[0;34m(\u001b[0m\u001b[0mfilenames\u001b[0m\u001b[0;34m)\u001b[0m\u001b[0;34m:\u001b[0m\u001b[0;34m\u001b[0m\u001b[0;34m\u001b[0m\u001b[0m\n\u001b[0;32m----> 3\u001b[0;31m     \u001b[0mfilenames\u001b[0m\u001b[0;34m[\u001b[0m\u001b[0mi\u001b[0m\u001b[0;34m]\u001b[0m \u001b[0;34m=\u001b[0m \u001b[0mos\u001b[0m\u001b[0;34m.\u001b[0m\u001b[0mpath\u001b[0m\u001b[0;34m.\u001b[0m\u001b[0mjoin\u001b[0m\u001b[0;34m(\u001b[0m\u001b[0mtempdir\u001b[0m\u001b[0;34m,\u001b[0m \u001b[0mname\u001b[0m\u001b[0;34m)\u001b[0m\u001b[0;34m\u001b[0m\u001b[0;34m\u001b[0m\u001b[0m\n\u001b[0m\u001b[1;32m      4\u001b[0m     \u001b[0mitk_np_view\u001b[0m \u001b[0;34m=\u001b[0m \u001b[0mitk\u001b[0m\u001b[0;34m.\u001b[0m\u001b[0mimage_view_from_array\u001b[0m\u001b[0;34m(\u001b[0m\u001b[0mdcm_image\u001b[0m\u001b[0;34m)\u001b[0m\u001b[0;34m\u001b[0m\u001b[0;34m\u001b[0m\u001b[0m\n\u001b[1;32m      5\u001b[0m     \u001b[0mitk\u001b[0m\u001b[0;34m.\u001b[0m\u001b[0mimwrite\u001b[0m\u001b[0;34m(\u001b[0m\u001b[0mitk_np_view\u001b[0m\u001b[0;34m,\u001b[0m \u001b[0mfilenames\u001b[0m\u001b[0;34m[\u001b[0m\u001b[0mi\u001b[0m\u001b[0;34m]\u001b[0m\u001b[0;34m)\u001b[0m\u001b[0;34m\u001b[0m\u001b[0;34m\u001b[0m\u001b[0m\n",
      "\u001b[0;31mNameError\u001b[0m: name 'os' is not defined"
     ]
    }
   ],
   "source": [
    "filenames = [\"test_image.dcm\", \"test_image2.dcm\", \"test_image3.dcm\"]\n",
    "for i, name in enumerate(filenames):\n",
    "    filenames[i] = os.path.join(tempdir, name)\n",
    "    itk_np_view = itk.image_view_from_array(dcm_image)\n",
    "    itk.imwrite(itk_np_view, filenames[i])\n",
    "data, meta = LoadImage()(filenames)\n",
    "\n",
    "print(f\"image data shape:{data.shape}\")\n",
    "print(f\"meta data:{meta}\")"
   ]
  },
  {
   "cell_type": "markdown",
   "metadata": {},
   "source": [
    "## Load 2D image in PNG format"
   ]
  },
  {
   "cell_type": "code",
   "execution_count": null,
   "metadata": {
    "tags": []
   },
   "outputs": [],
   "source": [
    "test_image = np.random.randint(0, 256, size=[128, 256])\n",
    "filename = os.path.join(tempdir, \"test_image.png\")\n",
    "Image.fromarray(test_image.astype(\"uint8\")).save(filename)\n",
    "data, meta = LoadImage()(filename)\n",
    "\n",
    "print(f\"image data shape:{data.shape}\")\n",
    "print(f\"meta data:{meta}\")"
   ]
  },
  {
   "cell_type": "markdown",
   "metadata": {},
   "source": [
    "## Load image with specified image reader\n",
    "And we can set additional parameters for the image readers, for example, set `c_order_axis_indexing=True` for `ITKReader`, this parameter will pass to ITK `read()` function later."
   ]
  },
  {
   "cell_type": "code",
   "execution_count": null,
   "metadata": {},
   "outputs": [],
   "source": [
    "loader = LoadImage()\n",
    "loader.register(ITKReader())\n",
    "data, meta = loader(filename)\n",
    "\n",
    "print(f\"image data shape:{data.shape}\")\n",
    "print(f\"meta data:{meta}\")"
   ]
  },
  {
   "cell_type": "markdown",
   "metadata": {},
   "source": [
    "## Load image and execute additional operations\n",
    "Some image readers can support additional operations after reading the image from file.\n",
    "\n",
    "For example, we can set a converter for PILReader: `PILReader(converter=lambda image: image.convert(\"LA\"))`."
   ]
  },
  {
   "cell_type": "code",
   "execution_count": null,
   "metadata": {},
   "outputs": [],
   "source": [
    "loader = LoadImage(PILReader(converter=lambda image: image.convert(\"LA\")))\n",
    "data, meta = loader(filename)\n",
    "\n",
    "print(f\"image data shape:{data.shape}\")\n",
    "print(f\"meta data:{meta}\")"
   ]
  },
  {
   "cell_type": "markdown",
   "metadata": {},
   "source": [
    "## Connect `LoadImage` with other transforms\n",
    "It's very easy to connect `LoadImage` transform with other transforms to construct a transform chain."
   ]
  },
  {
   "cell_type": "code",
   "execution_count": null,
   "metadata": {
    "tags": []
   },
   "outputs": [],
   "source": [
    "transform = Compose([\n",
    "    LoadImaged(keys=\"image\"),\n",
    "    AddChanneld(keys=\"image\"),\n",
    "    Resized(keys=\"image\", spatial_size=[64, 64]),\n",
    "    ToTensord(\"image\"),\n",
    "])\n",
    "test_data = {\"image\": filename}\n",
    "result = transform(test_data)\n",
    "print(f\"image data shape:{result['image'].shape}\")\n",
    "print(f\"meta data:{result['image_meta_dict']}\")"
   ]
  },
  {
   "cell_type": "markdown",
   "metadata": {},
   "source": [
    "## Cleanup data directory\n",
    "\n",
    "Remove directory if a temporary was used."
   ]
  },
  {
   "cell_type": "code",
   "execution_count": null,
   "metadata": {},
   "outputs": [],
   "source": [
    "shutil.rmtree(tempdir)"
   ]
  }
 ],
 "metadata": {
  "kernelspec": {
   "display_name": "Python 3",
   "language": "python",
   "name": "python3"
  },
  "language_info": {
   "codemirror_mode": {
    "name": "ipython",
    "version": 3
   },
   "file_extension": ".py",
   "mimetype": "text/x-python",
   "name": "python",
   "nbconvert_exporter": "python",
   "pygments_lexer": "ipython3",
   "version": "3.8.5"
  }
 },
 "nbformat": 4,
 "nbformat_minor": 2
}
