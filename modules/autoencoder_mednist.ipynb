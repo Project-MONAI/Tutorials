{
 "cells": [
  {
   "cell_type": "markdown",
   "metadata": {},
   "source": [
    "# Autoencoder network with MedNIST Dataset\n",
    "\n",
    "This notebook illustrates the use of an autoencoder in MONAI for the purpose of image deblurring.\n",
    "\n",
    "# TODO - write the learning outcomes\n",
    "This will go through the steps of:\n",
    "* Loading the data from a remote source\n",
    "* Constructing a dataset from this data and transforms\n",
    "* Defining the networks\n",
    "* Training and evaluation\n",
    "\n",
    "# TODO NEED TO DO COLAB ONCE FINISHED\n",
    "[![Open In Colab](https://colab.research.google.com/assets/colab-badge.svg)](https://colab.research.google.com/github/Project-MONAI/tutorials/blob/master/modules/mednist_GAN_tutorial.ipynb)\n",
    "\n",
    "# TODO LIST\n",
    "* colab links\n",
    "* learning outcomes\n",
    "* extraneous imports"
   ]
  },
  {
   "cell_type": "markdown",
   "metadata": {},
   "source": [
    "# 1. Imports and configuration"
   ]
  },
  {
   "cell_type": "code",
   "execution_count": 1,
   "metadata": {
    "tags": []
   },
   "outputs": [
    {
     "name": "stdout",
     "output_type": "stream",
     "text": [
      "MONAI version: 0.3.0+29.g754d1a9\n",
      "Python version: 3.8.3 (default, May 19 2020, 18:47:26)  [GCC 7.3.0]\n",
      "OS version: Linux (4.15.0-115-generic)\n",
      "Numpy version: 1.19.2\n",
      "Pytorch version: 1.6.0\n",
      "MONAI flags: HAS_EXT = False, USE_COMPILED = False\n",
      "\n",
      "Optional dependencies:\n",
      "Pytorch Ignite version: 0.4.2\n",
      "Nibabel version: 3.2.0\n",
      "scikit-image version: 0.17.2\n",
      "Pillow version: 8.0.0\n",
      "Tensorboard version: 2.3.0\n",
      "gdown version: 3.12.2\n",
      "TorchVision version: 0.7.0\n",
      "ITK version: 5.1.1\n",
      "tqdm version: 4.50.2\n",
      "\n",
      "For details about installing the optional dependencies, please visit:\n",
      "    https://docs.monai.io/en/latest/installation.html#installing-the-recommended-dependencies\n",
      "\n"
     ]
    }
   ],
   "source": [
    "import logging\n",
    "import os\n",
    "import shutil\n",
    "import sys\n",
    "import tempfile\n",
    "import random\n",
    "import numpy as np\n",
    "from tqdm import trange\n",
    "import torchvision \n",
    "import matplotlib.pyplot as plt\n",
    "import torch\n",
    "\n",
    "from monai.apps import download_and_extract\n",
    "from monai.config import print_config\n",
    "from monai.data import CacheDataset, DataLoader\n",
    "from monai.engines import GanKeys, GanTrainer, default_make_latent\n",
    "from monai.handlers import CheckpointSaver, MetricLogger, StatsHandler\n",
    "from monai.networks import normal_init\n",
    "from monai.networks.nets import AutoEncoder\n",
    "from monai.transforms import (\n",
    "    AddChannelD,\n",
    "    Compose,\n",
    "    LoadPNGD,\n",
    "    RandFlipD,\n",
    "    RandRotateD,\n",
    "    RandZoomD,\n",
    "    ScaleIntensityD,\n",
    "    ToTensorD,\n",
    "    Lambda,\n",
    "    GaussianSmoothD,\n",
    ")\n",
    "from monai.utils import set_determinism\n",
    "\n",
    "print_config()"
   ]
  },
  {
   "cell_type": "code",
   "execution_count": 2,
   "metadata": {},
   "outputs": [],
   "source": [
    "logging.basicConfig(stream=sys.stdout, level=logging.INFO)\n",
    "set_determinism(0)\n",
    "device = torch.device(\"cuda\" if torch.cuda.is_available() else \"cpu\")"
   ]
  },
  {
   "cell_type": "markdown",
   "metadata": {},
   "source": [
    "# 2. Get the data\n",
    "\n",
    "The MedNIST dataset was gathered from several sets from [TCIA](https://wiki.cancerimagingarchive.net/display/Public/Data+Usage+Policies+and+Restrictions),\n",
    "[the RSNA Bone Age Challenge](http://rsnachallenges.cloudapp.net/competitions/4),\n",
    "and [the NIH Chest X-ray dataset](https://cloud.google.com/healthcare/docs/resources/public-datasets/nih-chest).\n",
    "\n",
    "The dataset is kindly made available by [Dr. Bradley J. Erickson M.D., Ph.D.](https://www.mayo.edu/research/labs/radiology-informatics/overview) (Department of Radiology, Mayo Clinic)\n",
    "under the Creative Commons [CC BY-SA 4.0 license](https://creativecommons.org/licenses/by-sa/4.0/)."
   ]
  },
  {
   "cell_type": "code",
   "execution_count": 3,
   "metadata": {},
   "outputs": [
    {
     "name": "stdout",
     "output_type": "stream",
     "text": [
      "/root/data/MONAI\n"
     ]
    }
   ],
   "source": [
    "directory = os.environ.get(\"MONAI_DATA_DIRECTORY\")\n",
    "root_dir = tempfile.mkdtemp() if directory is None else directory\n",
    "print(root_dir)"
   ]
  },
  {
   "cell_type": "code",
   "execution_count": 4,
   "metadata": {
    "tags": []
   },
   "outputs": [],
   "source": [
    "resource = \"https://www.dropbox.com/s/5wwskxctvcxiuea/MedNIST.tar.gz?dl=1\"\n",
    "md5 = \"0bc7306e7427e00ad1c5526a6677552d\"\n",
    "\n",
    "compressed_file = os.path.join(root_dir, \"MedNIST.tar.gz\")\n",
    "data_dir = os.path.join(root_dir, \"MedNIST\")\n",
    "if not os.path.exists(data_dir):\n",
    "    download_and_extract(resource, compressed_file, root_dir, md5)"
   ]
  },
  {
   "cell_type": "markdown",
   "metadata": {},
   "source": [
    "### 2b Whilst debugging, alternatively use the MNIST dataset\n",
    "Save to `png` so that the rest of the code is unaffected."
   ]
  },
  {
   "cell_type": "code",
   "execution_count": 15,
   "metadata": {},
   "outputs": [
    {
     "name": "stderr",
     "output_type": "stream",
     "text": [
      "100%|██████████| 60000/60000 [01:14<00:00, 803.46it/s]\n"
     ]
    }
   ],
   "source": [
    "import gzip\n",
    "from urllib import request\n",
    "from PIL import Image\n",
    "\n",
    "mnist_folder = os.path.join(root_dir, \"MNIST\")\n",
    "if not os.path.exists(mnist_folder):\n",
    "    os.makedirs(mnist_folder)\n",
    "if len(os.listdir(mnist_folder)) < 60000:\n",
    "    mnist_fname = os.path.join(root_dir, \"MNIST.gz\")\n",
    "    if not os.path.exists(mnist_fname):\n",
    "        mnist_train_url = 'http://yann.lecun.com/exdb/mnist/train-images-idx3-ubyte.gz'\n",
    "        request.urlretrieve(mnist_train_url, mnist_fname)\n",
    "    f = gzip.open(mnist_fname,'r')\n",
    "    f.read(16) # Skip first 16 bytes\n",
    "    image_size = 28\n",
    "    num_images = 60000\n",
    "    buf = f.read(image_size * image_size * num_images)\n",
    "    data = np.frombuffer(buf, dtype=np.uint8).astype(np.float32)\n",
    "    data = data.reshape(num_images, image_size, image_size)\n",
    "    # 32x32 instead of 28x28\n",
    "    data = np.pad(data, ((0,0), (2,2), (2,2)))\n",
    "\n",
    "    for i in trange(data.shape[0]):\n",
    "        im = np.squeeze(data[i])\n",
    "        rescaled = (255.0 / im.max() * (im - im.min())).astype(np.uint8)\n",
    "        pil_im = Image.fromarray(rescaled)\n",
    "        pil_im.save(os.path.join(mnist_folder, f\"mnist_{i}.png\"))"
   ]
  },
  {
   "cell_type": "code",
   "execution_count": 16,
   "metadata": {},
   "outputs": [
    {
     "data": {
      "image/png": "[encoded data removed]",
      "text/plain": [
       "<Figure size 720x720 with 8 Axes>"
      ]
     },
     "metadata": {
      "needs_background": "light"
     },
     "output_type": "display_data"
    }
   ],
   "source": [
    "# Get all filenames\n",
    "use_mnist = True\n",
    "if True:\n",
    "    im_dir = mnist_folder\n",
    "else:\n",
    "    im_dir = os.path.join(data_dir, \"Hand\")\n",
    "    \n",
    "all_filenames = [os.path.join(im_dir, filename) for filename in os.listdir(im_dir)]\n",
    "random.shuffle(all_filenames)\n",
    "\n",
    "# Visualise a few of them\n",
    "rand_images = np.random.choice(all_filenames, 8, replace=False)\n",
    "plt.figure(figsize=(10,10))\n",
    "for n, fname in enumerate(rand_images):\n",
    "    img = plt.imread(fname)\n",
    "    ax = plt.subplot(2,4,n+1)\n",
    "    plt.imshow(img,cmap='gray')\n",
    "    plt.axis('off')\n",
    "plt.tight_layout()\n",
    "plt.show()"
   ]
  },
  {
   "cell_type": "code",
   "execution_count": 17,
   "metadata": {},
   "outputs": [
    {
     "name": "stdout",
     "output_type": "stream",
     "text": [
      "total number of images: 60000\n",
      "number of images for training: 48000\n",
      "number of images for validation: 6000\n",
      "number of images for testing: 6000\n"
     ]
    }
   ],
   "source": [
    "# Split into training, validation and testing\n",
    "val_frac = 0.1\n",
    "test_frac = 0.1\n",
    "num_val = int(len(all_filenames) * val_frac)\n",
    "num_test = int(len(all_filenames) * test_frac)\n",
    "num_train = len(all_filenames) - num_val - num_test\n",
    "train_datadict = [{\"im\": fname} for fname in all_filenames[:num_train]]\n",
    "val_datadict = [{\"im\": fname} for fname in all_filenames[num_train:num_train+num_val]]\n",
    "test_datadict = [{\"im\": fname} for fname in all_filenames[-num_test:]]\n",
    "print(f\"total number of images: {len(all_filenames)}\")\n",
    "print(f\"number of images for training: {len(train_datadict)}\")\n",
    "print(f\"number of images for validation: {len(val_datadict)}\")\n",
    "print(f\"number of images for testing: {len(test_datadict)}\")"
   ]
  },
  {
   "cell_type": "markdown",
   "metadata": {},
   "source": [
    "# 3. Create the image transform chain\n",
    "\n",
    "To train the autoencoder to unblur our images, we'll want to pass the blurred image into the encoder, but in the loss function, we'll do the comparison with the original, blur-free version. In this sense, the loss function will be minimised when the encode and decode steps manage to remove the blur.\n",
    "\n",
    "Other than the fact that one version of the image and the other is not, we want them to be identical, meaning they need to be generated from the same transforms. The easiest way to do this is via dictionary transforms, where at the end, we create a copy of the image and only apply the Gaussian blur to one of the pair."
   ]
  },
  {
   "cell_type": "code",
   "execution_count": 18,
   "metadata": {},
   "outputs": [],
   "source": [
    "train_transforms = Compose(\n",
    "    [\n",
    "        LoadPNGD(keys=[\"im\"]),\n",
    "        AddChannelD(keys=[\"im\"]),\n",
    "        ScaleIntensityD(keys=[\"im\"]),\n",
    "        RandRotateD(keys=[\"im\"], range_x=15, prob=0.5, keep_size=True),\n",
    "        RandFlipD(keys=[\"im\"], spatial_axis=0, prob=0.5),\n",
    "        RandZoomD(keys=[\"im\"], min_zoom=0.9, max_zoom=1.1, prob=0.5),\n",
    "        ToTensorD(keys=[\"im\"]),\n",
    "        Lambda(lambda d: {\"orig\":d[\"im\"], \"blur\":d[\"im\"]}),\n",
    "        GaussianSmoothD(keys=[\"blur\"], sigma=1.0),\n",
    "    ]\n",
    ")\n",
    "\n",
    "test_val_transforms = Compose(\n",
    "    [\n",
    "        LoadPNGD(keys=[\"im\"]),\n",
    "        AddChannelD(keys=[\"im\"]),\n",
    "        ScaleIntensityD(keys=[\"im\"]),\n",
    "        ToTensorD(keys=[\"im\"]),\n",
    "        Lambda(lambda d: {\"orig\":d[\"im\"], \"blur\":d[\"im\"]}),\n",
    "        GaussianSmoothD(keys=[\"blur\"], sigma=3.0),\n",
    "    ]\n",
    ")"
   ]
  },
  {
   "cell_type": "markdown",
   "metadata": {},
   "source": [
    "### Create dataset and dataloader\n",
    "\n",
    "Hold data and present batches during training."
   ]
  },
  {
   "cell_type": "code",
   "execution_count": 19,
   "metadata": {
    "tags": []
   },
   "outputs": [
    {
     "name": "stderr",
     "output_type": "stream",
     "text": [
      "Load and cache transformed data: 100%|██████████| 48000/48000 [00:41<00:00, 1147.67it/s]\n",
      "Load and cache transformed data: 100%|██████████| 6000/6000 [00:18<00:00, 328.06it/s]\n",
      "Load and cache transformed data: 100%|██████████| 6000/6000 [00:18<00:00, 324.93it/s]\n"
     ]
    }
   ],
   "source": [
    "batch_size = 300\n",
    "num_workers = 10\n",
    "\n",
    "train_ds = CacheDataset(train_datadict, train_transforms, num_workers=num_workers)\n",
    "train_loader = DataLoader(train_ds, batch_size=batch_size, shuffle=True, num_workers=num_workers)\n",
    "test_ds = CacheDataset(test_datadict, test_val_transforms, num_workers=num_workers)\n",
    "test_loader = DataLoader(test_ds, batch_size=batch_size, shuffle=True, num_workers=num_workers)\n",
    "val_ds = CacheDataset(val_datadict, test_val_transforms, num_workers=num_workers)\n",
    "val_loader = DataLoader(val_ds, batch_size=batch_size, shuffle=True, num_workers=num_workers)\n"
   ]
  },
  {
   "cell_type": "code",
   "execution_count": 20,
   "metadata": {},
   "outputs": [],
   "source": [
    "# Visualise a blurred image and its original\n",
    "def get_single_im(ds):\n",
    "    loader = torch.utils.data.DataLoader(ds, batch_size=1, num_workers=10, shuffle=True)\n",
    "    itera = iter(loader)\n",
    "    data = next(itera)\n",
    "    \n",
    "    return data['orig'], data['blur']\n",
    "\n",
    "def plot_ims(ims, titles):\n",
    "    plt.subplots(1,len(ims))\n",
    "    for i,(im,title) in enumerate(zip(ims,titles)):\n",
    "        plt.subplot(1,len(ims),i+1)\n",
    "        plt.imshow(torch.squeeze(im), cmap='gray')\n",
    "        plt.title(title)\n",
    "        plt.axis('off')\n",
    "    plt.tight_layout()\n",
    "    plt.show()"
   ]
  },
  {
   "cell_type": "code",
   "execution_count": 21,
   "metadata": {},
   "outputs": [
    {
     "data": {
      "image/png": "[encoded data removed]",
      "text/plain": [
       "<Figure size 432x288 with 2 Axes>"
      ]
     },
     "metadata": {
      "needs_background": "light"
     },
     "output_type": "display_data"
    }
   ],
   "source": [
    "orig, blur = get_single_im(train_ds)\n",
    "plot_ims([orig, blur],['orig', 'blur'])"
   ]
  },
  {
   "cell_type": "code",
   "execution_count": null,
   "metadata": {},
   "outputs": [],
   "source": [
    "# create the autoencoder and move it to\n",
    "# the specified device\n",
    "model = AutoEncoder(\n",
    "    dimensions=2,\n",
    "    in_channels=1,\n",
    "    out_channels=1,\n",
    "    channels=(4, 8, 16),\n",
    "    strides=(2, 2, 2),\n",
    ").to(device)\n",
    "\n",
    "# Create loss fn and optimiser\n",
    "loss_function = torch.nn.MSELoss()\n",
    "optimizer = torch.optim.Adam(model.parameters(), 1e-5)\n",
    "\n",
    "# optimisation variables\n",
    "epoch_num = 100\n",
    "# val_interval = 1\n",
    "epoch_loss_values = list()\n",
    "\n",
    "for epoch in range(epoch_num):\n",
    "    print(\"-\" * 10)\n",
    "    print(f\"epoch {epoch + 1}/{epoch_num}\")\n",
    "    model.train()\n",
    "    epoch_loss = 0\n",
    "    step = 0\n",
    "    for batch_data in train_loader:        \n",
    "        step += 1\n",
    "        inputs = batch_data['orig'].to(device)\n",
    "        optimizer.zero_grad()\n",
    "        outputs = model(inputs)\n",
    "        loss = loss_function(outputs, batch_data['orig'].to(device))\n",
    "        loss.backward()\n",
    "        optimizer.step()\n",
    "        epoch_loss += loss.item()\n",
    "#         print(f\"{step}/{len(train_ds) // train_loader.batch_size}, train_loss: {loss.item():.4f}\")\n",
    "        epoch_len = len(train_ds) // train_loader.batch_size\n",
    "    epoch_loss /= step\n",
    "    epoch_loss_values.append(epoch_loss)\n",
    "    print(f\"epoch {epoch + 1} average loss: {epoch_loss:.4f}\")"
   ]
  },
  {
   "cell_type": "code",
   "execution_count": 23,
   "metadata": {},
   "outputs": [
    {
     "data": {
      "text/plain": [
       "[<matplotlib.lines.Line2D at 0x7f210d9f6400>]"
      ]
     },
     "execution_count": 23,
     "metadata": {},
     "output_type": "execute_result"
    },
    {
     "data": {
      "image/png": "[encoded data removed]",
      "text/plain": [
       "<Figure size 432x288 with 1 Axes>"
      ]
     },
     "metadata": {
      "needs_background": "light"
     },
     "output_type": "display_data"
    }
   ],
   "source": [
    "plt.figure()\n",
    "plt.title(\"Epoch Average Loss\")\n",
    "x = [i + 1 for i in range(len(epoch_loss_values))]\n",
    "y = epoch_loss_values\n",
    "plt.xlabel(\"epoch\")\n",
    "plt.plot(x, y)"
   ]
  },
  {
   "cell_type": "code",
   "execution_count": 24,
   "metadata": {},
   "outputs": [
    {
     "data": {
      "image/png": "[encoded data removed]",
      "text/plain": [
       "<Figure size 432x288 with 3 Axes>"
      ]
     },
     "metadata": {
      "needs_background": "light"
     },
     "output_type": "display_data"
    }
   ],
   "source": [
    "orig, blur = get_single_im(val_ds)\n",
    "deblur = model(orig.to(device)).detach().cpu()\n",
    "plot_ims([orig, blur, deblur],['orig', 'blur', 'deblur'])\n"
   ]
  },
  {
   "cell_type": "markdown",
   "metadata": {},
   "source": [
    "### Cleanup data directory\n",
    "\n",
    "Remove directory if a temporary was used."
   ]
  },
  {
   "cell_type": "code",
   "execution_count": null,
   "metadata": {
    "pycharm": {
     "is_executing": true
    }
   },
   "outputs": [],
   "source": [
    "if directory is None:\n",
    "    shutil.rmtree(root_dir)"
   ]
  }
 ],
 "metadata": {
  "kernelspec": {
   "display_name": "Python 3",
   "language": "python",
   "name": "python3"
  },
  "language_info": {
   "codemirror_mode": {
    "name": "ipython",
    "version": 3
   },
   "file_extension": ".py",
   "mimetype": "text/x-python",
   "name": "python",
   "nbconvert_exporter": "python",
   "pygments_lexer": "ipython3",
   "version": "3.8.3"
  }
 },
 "nbformat": 4,
 "nbformat_minor": 4
}
