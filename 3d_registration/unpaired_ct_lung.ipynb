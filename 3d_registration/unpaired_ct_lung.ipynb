{
 "cells": [
  {
   "cell_type": "code",
   "execution_count": null,
   "outputs": [],
   "source": [],
   "metadata": {
    "collapsed": false,
    "pycharm": {
     "name": "#%%\n"
    }
   }
  },
  {
   "cell_type": "markdown",
   "source": [
    "## Setup Environment\n",
    "[![Open In Colab](https://colab.research.google.com/assets/colab-badge.svg)](https://colab.research.google.com/github/Project-MONAI/tutorials/blob/master/3d_registration/unpaired_lung_ct.ipynb)"
   ],
   "metadata": {
    "collapsed": false
   }
  },
  {
   "cell_type": "code",
   "execution_count": null,
   "outputs": [],
   "source": [
    "import random\n",
    "%pip install -q \"monai[nibabel, tqdm]\""
   ],
   "metadata": {
    "collapsed": false,
    "pycharm": {
     "name": "#%%\n"
    }
   }
  },
  {
   "cell_type": "code",
   "execution_count": null,
   "outputs": [],
   "source": [
    "%pip install -q matplotlib\n",
    "%matplotlib inline"
   ],
   "metadata": {
    "collapsed": false,
    "pycharm": {
     "name": "#%%\n"
    }
   }
  },
  {
   "cell_type": "markdown",
   "source": [
    "## Setup imports"
   ],
   "metadata": {
    "collapsed": false
   }
  },
  {
   "cell_type": "code",
   "execution_count": null,
   "outputs": [],
   "source": [
    "# Copyright 2020 MONAI Consortium\n",
    "# Licensed under the Apache License, Version 2.0 (the \"License\");\n",
    "# you may not use this file except in compliance with the License.\n",
    "# You may obtain a copy of the License at\n",
    "#     http://www.apache.org/licenses/LICENSE-2.0\n",
    "# Unless required by applicable law or agreed to in writing, software\n",
    "# distributed under the License is distributed on an \"AS IS\" BASIS,\n",
    "# WITHOUT WARRANTIES OR CONDITIONS OF ANY KIND, either express or implied.\n",
    "# See the License for the specific language governing permissions and\n",
    "# limitations under the License."
   ],
   "metadata": {
    "collapsed": false,
    "pycharm": {
     "name": "#%%\n"
    }
   }
  },
  {
   "cell_type": "code",
   "execution_count": null,
   "outputs": [],
   "source": [
    "import os\n",
    "import shutil\n",
    "import tempfile\n",
    "import matplotlib.pyplot as plt\n",
    "import numpy as np\n",
    "import torch\n",
    "from torch.nn import MSELoss\n",
    "from monai.apps import download_and_extract\n",
    "from monai.config import print_config\n",
    "from monai.data import DataLoader, Dataset, CacheDataset\n",
    "from monai.losses import DiceLoss, BendingEnergyLoss\n",
    "from monai.metrics import compute_meandice\n",
    "from monai.networks.blocks import Warp, DVF2DDF\n",
    "from monai.networks.nets import LocalNet\n",
    "from monai.transforms import LoadImaged, AddChanneld, ToTensord, Compose, \\\n",
    "    ScaleIntensityRanged, RandAffined, Resized\n",
    "from monai.utils import set_determinism, first\n",
    "\n",
    "print_config()"
   ],
   "metadata": {
    "collapsed": false,
    "pycharm": {
     "name": "#%%\n"
    }
   }
  },
  {
   "cell_type": "markdown",
   "source": [
    "## Setup data directory\n",
    "\n",
    "You can specify a directory with the `MONAI_DATA_DIRECTORY` environment variable.\n",
    "This allows you to save results and reuse downloads.\n",
    "If not specified a temporary directory will be used."
   ],
   "metadata": {
    "collapsed": false
   }
  },
  {
   "cell_type": "code",
   "execution_count": null,
   "outputs": [],
   "source": [
    "directory = os.environ.get(\"MONAI_DATA_DIRECTORY\")\n",
    "root_dir = tempfile.mkdtemp() if directory is None else directory\n",
    "print(root_dir)"
   ],
   "metadata": {
    "collapsed": false,
    "pycharm": {
     "name": "#%%\n"
    }
   }
  },
  {
   "cell_type": "markdown",
   "source": [
    "## Download dataset"
   ],
   "metadata": {
    "collapsed": false
   }
  },
  {
   "cell_type": "code",
   "execution_count": null,
   "outputs": [],
   "source": [
    "resource = \"https://zenodo.org/record/3835682/files/training.zip\"\n",
    "\n",
    "compressed_file = os.path.join(root_dir, \"paired_ct_lung.zip\")\n",
    "data_dir = os.path.join(root_dir, \"paired_ct_lung\")\n",
    "if not os.path.exists(data_dir):\n",
    "    download_and_extract(resource, compressed_file, root_dir)\n",
    "    os.rename(os.path.join(root_dir, \"training\"), data_dir)"
   ],
   "metadata": {
    "collapsed": false,
    "pycharm": {
     "name": "#%%\n"
    }
   }
  },
  {
   "cell_type": "markdown",
   "source": [
    "## Set dataset path\n",
    "Only images at the expiration time point are used."
   ],
   "metadata": {
    "collapsed": false
   }
  },
  {
   "cell_type": "code",
   "execution_count": null,
   "outputs": [],
   "source": [
    "train_iterations = 20000\n",
    "train_files = []\n",
    "for _ in range(train_iterations):\n",
    "    fix_id, moving_id = random.sample([i for i in range(1, 19)], 2)\n",
    "    train_files.append(\n",
    "        {\n",
    "            \"fixed_image\": os.path.join(data_dir, \"scans/case_%03d_exp.nii.gz\" % fix_id),\n",
    "            \"moving_image\": os.path.join(data_dir, \"scans/case_%03d_exp.nii.gz\" % moving_id),\n",
    "        }\n",
    "    )\n",
    "\n",
    "val_files = [\n",
    "    {\n",
    "        \"fixed_image\": os.path.join(data_dir, \"scans/case_%03d_exp.nii.gz\" % fix_id),\n",
    "        \"moving_image\": os.path.join(data_dir, \"scans/case_%03d_exp.nii.gz\" % moving_id),\n",
    "    }\n",
    "    for fix_id, moving_id in [(19, 20), (20, 21)]\n",
    "]"
   ],
   "metadata": {
    "collapsed": false,
    "pycharm": {
     "name": "#%%\n"
    }
   }
  },
  {
   "cell_type": "markdown",
   "source": [
    "## Set deterministic training for reproducibility"
   ],
   "metadata": {
    "collapsed": false
   }
  },
  {
   "cell_type": "code",
   "execution_count": null,
   "outputs": [],
   "source": [
    "set_determinism(seed=0)"
   ],
   "metadata": {
    "collapsed": false,
    "pycharm": {
     "name": "#%%\n"
    }
   }
  },
  {
   "cell_type": "markdown",
   "source": [
    "## Setup transforms for training and validation\n",
    "Here we use several transforms to augment the dataset:\n",
    "1. LoadImaged loads the lung CT images and labels from NIfTI format files.\n",
    "2. AddChanneld as the original data doesn't have channel dim, add 1 dim to construct \"channel first\" shape.\n",
    "5. ScaleIntensityRanged extracts intensity range [-57, 164] and scales to [0, 1].\n",
    "9. RandAffined efficiently performs rotate, scale, shear, translate, etc. together based on PyTorch affine transform.\n",
    "10. ToTensord converts the numpy array to PyTorch Tensor for further steps."
   ],
   "metadata": {
    "collapsed": false
   }
  },
  {
   "cell_type": "code",
   "execution_count": null,
   "outputs": [],
   "source": [
    "train_transforms = Compose(\n",
    "    [\n",
    "        LoadImaged(\n",
    "            keys=[\"fixed_image\", \"moving_image\"]\n",
    "        ),\n",
    "        AddChanneld(\n",
    "            keys=[\"fixed_image\", \"moving_image\"]\n",
    "        ),\n",
    "        ScaleIntensityRanged(\n",
    "            keys=[\"fixed_image\", \"moving_image\"],\n",
    "            a_min=-285, a_max=3770, b_min=0.0, b_max=1.0, clip=True,\n",
    "        ),\n",
    "        RandAffined(\n",
    "            keys=[\"fixed_image\", \"moving_image\"],\n",
    "            mode=('bilinear', 'bilinear'),\n",
    "            prob=1.0, spatial_size=(192, 192, 208),\n",
    "            rotate_range=(0, 0, np.pi/15), scale_range=(0.1, 0.1, 0.1)\n",
    "        ),\n",
    "        Resized(\n",
    "            keys=[\"fixed_image\", \"moving_image\"],\n",
    "            mode=('trilinear', 'trilinear'),\n",
    "            align_corners=(True, True, None, None),\n",
    "            spatial_size=(96, 96, 104)\n",
    "        ),\n",
    "        ToTensord(\n",
    "            keys=[\"fixed_image\", \"moving_image\"]\n",
    "        ),\n",
    "      ]\n",
    ")\n",
    "val_transforms = Compose(\n",
    "    [\n",
    "        LoadImaged(\n",
    "            keys=[\"fixed_image\", \"moving_image\"]\n",
    "        ),\n",
    "        AddChanneld(\n",
    "            keys=[\"fixed_image\", \"moving_image\"]\n",
    "        ),\n",
    "        ScaleIntensityRanged(\n",
    "            keys=[\"fixed_image\", \"moving_image\"],\n",
    "            a_min=-285, a_max=3770, b_min=0.0, b_max=1.0,\n",
    "            clip=True,\n",
    "        ),\n",
    "        Resized(\n",
    "            keys=[\"fixed_image\", \"moving_image\"],\n",
    "            mode=('trilinear', 'trilinear'),\n",
    "            align_corners=(True, True, None, None),\n",
    "            spatial_size=(96, 96, 104)\n",
    "        ),\n",
    "        ToTensord(\n",
    "            keys=[\"fixed_image\", \"moving_image\"]\n",
    "        ),\n",
    "    ]\n",
    ")"
   ],
   "metadata": {
    "collapsed": false,
    "pycharm": {
     "name": "#%%\n"
    }
   }
  },
  {
   "cell_type": "markdown",
   "source": [
    "## Check transforms in DataLoader"
   ],
   "metadata": {
    "collapsed": false
   }
  },
  {
   "cell_type": "code",
   "execution_count": null,
   "outputs": [],
   "source": [
    "check_ds = Dataset(data=train_files, transform=train_transforms)\n",
    "check_loader = DataLoader(check_ds, batch_size=1)\n",
    "check_data = first(check_loader)\n",
    "fixed_image = check_data[\"fixed_image\"][0][0]\n",
    "moving_image = check_data[\"moving_image\"][0][0]\n",
    "\n",
    "print(f\"moving_image shape: {moving_image.shape}, \",\n",
    "      f\"fixed_image shape: {fixed_image.shape}.\")\n",
    "\n",
    "# plot the slice [:, :, 50]\n",
    "plt.figure(\"check\", (12, 6))\n",
    "plt.subplot(1, 2, 1)\n",
    "plt.title(\"moving_image\")\n",
    "plt.imshow(moving_image[:, :, 50], cmap=\"gray\")\n",
    "plt.subplot(1, 2, 2)\n",
    "plt.title(\"fixed_image\")\n",
    "plt.imshow(fixed_image[:, :, 50], cmap=\"gray\")\n",
    "\n",
    "plt.show()"
   ],
   "metadata": {
    "collapsed": false,
    "pycharm": {
     "name": "#%%\n"
    }
   }
  },
  {
   "cell_type": "markdown",
   "source": [],
   "metadata": {
    "collapsed": false
   }
  },
  {
   "cell_type": "markdown",
   "source": [
    "## Define CacheDataset and DataLoader for training and validation\n",
    "\n",
    "Here we use CacheDataset to accelerate training and validation process, it's 10x faster than the regular Dataset.\n",
    "To achieve best performance, set cache_rate=1.0 to cache all the data, if memory is not enough, set lower value.\n",
    "Users can also set cache_num instead of cache_rate, will use the minimum value of the 2 settings.\n",
    "And set num_workers to enable multi-threads during caching.\n",
    "If want to to try the regular Dataset, just change to use the commented code below.\n"
   ],
   "metadata": {
    "collapsed": false
   }
  },
  {
   "cell_type": "code",
   "execution_count": null,
   "outputs": [],
   "source": [
    "train_ds = CacheDataset(data=train_files, transform=train_transforms,\n",
    "                        cache_rate=1.0, num_workers=4)\n",
    "\n",
    "train_loader = DataLoader(train_ds, batch_size=1, shuffle=True, num_workers=4)\n",
    "\n",
    "val_ds = CacheDataset(data=val_files, transform=val_transforms,\n",
    "                      cache_rate=1.0, num_workers=0)\n",
    "\n",
    "val_loader = DataLoader(val_ds, batch_size=1, num_workers=4)"
   ],
   "metadata": {
    "collapsed": false,
    "pycharm": {
     "name": "#%%\n"
    }
   }
  },
  {
   "cell_type": "markdown",
   "source": [
    "#### Create Model, Loss, Optimizer"
   ],
   "metadata": {
    "collapsed": false
   }
  },
  {
   "cell_type": "code",
   "execution_count": null,
   "outputs": [],
   "source": [
    "# standard PyTorch program style: create UNet, DiceLoss and Adam optimizer\n",
    "device = torch.device(\"cuda:0\")\n",
    "model = LocalNet(\n",
    "        spatial_dims=3,\n",
    "        in_channels=2,\n",
    "        out_channels=3,\n",
    "        num_channel_initial=32,\n",
    "        extract_levels=[0, 1, 2, 3],\n",
    "        out_activation=None,\n",
    "        out_initializer=\"zeros\").to(device)\n",
    "dvf2ddf = DVF2DDF(spatial_dims=3)\n",
    "warp_layer = Warp(spatial_dims=3).to(device)\n",
    "image_loss = MSELoss()\n",
    "regularization = BendingEnergyLoss()\n",
    "optimizer = torch.optim.Adam(model.parameters(), 1e-5)"
   ],
   "metadata": {
    "collapsed": false,
    "pycharm": {
     "name": "#%%\n"
    }
   }
  },
  {
   "cell_type": "markdown",
   "source": [
    "Define a forward pass function for ddf computation and warping to avoid duplicate coding."
   ],
   "metadata": {
    "collapsed": false
   }
  },
  {
   "cell_type": "code",
   "execution_count": null,
   "outputs": [],
   "source": [
    "def forward(batch_data, model, dvf2ddf):\n",
    "    fixed_image = batch_data[\"fixed_image\"].to(device)\n",
    "    moving_image = batch_data[\"moving_image\"].to(device)\n",
    "    dvf = model(torch.cat((moving_image, fixed_image), dim=1))\n",
    "    ddf = dvf2ddf(dvf)\n",
    "    pred_image = warp_layer(moving_image, ddf)\n",
    "    return ddf, pred_image"
   ],
   "metadata": {
    "collapsed": false,
    "pycharm": {
     "name": "#%%\n"
    }
   }
  },
  {
   "cell_type": "markdown",
   "source": [
    "## Execute a typical PyTorch training process"
   ],
   "metadata": {
    "collapsed": false
   }
  },
  {
   "cell_type": "code",
   "execution_count": null,
   "outputs": [],
   "source": [
    "val_period = 10\n",
    "epoch_num = 1000\n",
    "val_interval = 2\n",
    "best_metric = -1\n",
    "best_metric_epoch = -1\n",
    "loss_values = list()\n",
    "metric_values = list()\n",
    "\n",
    "loss_sum = 0\n",
    "\n",
    "for step, batch_data in enumerate(train_loader):\n",
    "    optimizer.zero_grad()\n",
    "\n",
    "    ddf, pred_image = forward(batch_data, model, dvf2ddf)\n",
    "\n",
    "    fixed_image = batch_data[\"fixed_image\"].to(device)\n",
    "    loss = 2 * image_loss(pred_image, fixed_image)\n",
    "    loss += 4 * regularization(ddf)\n",
    "    loss.backward()\n",
    "    optimizer.step()\n",
    "\n",
    "    loss_sum += loss.item()\n",
    "    print(f\"{step}/{len(train_ds) // train_loader.batch_size}, \"\n",
    "          f\"train_loss: {loss.item():.4f}\")\n",
    "    if (step + 1) % val_period == 0:\n",
    "        loss_values.append(loss_sum / val_period)\n",
    "        loss_sum = 0\n",
    "        model.eval()\n",
    "        with torch.no_grad():\n",
    "            metric_sum = 0.0\n",
    "            metric_count = 0\n",
    "            for val_data in val_loader:\n",
    "\n",
    "                val_ddf, val_pred_image = forward(\n",
    "                    val_data, model, dvf2ddf)\n",
    "\n",
    "                val_fixed_image = val_data[\"fixed_image\"].to(device)\n",
    "                value = - image_loss(val_pred_image, val_fixed_image)\n",
    "                metric_count += len(value)\n",
    "                metric_sum += value.sum().item()\n",
    "            metric = metric_sum / metric_count\n",
    "            metric_values.append(metric)\n",
    "            if metric > best_metric:\n",
    "                best_metric = metric\n",
    "                best_metric_step = step\n",
    "                torch.save(model.state_dict(),\n",
    "                           os.path.join(root_dir, \"best_metric_model.pth\"))\n",
    "                print(\"saved new best metric model\")\n",
    "            print(\n",
    "                f\"current image similarity: {metric:.4f}\\n\"\n",
    "                f\"best image similarity: {best_metric:.4f} \"\n",
    "                f\"at step: {best_metric_step}\"\n",
    "            )\n",
    "        model.train()"
   ],
   "metadata": {
    "collapsed": false,
    "pycharm": {
     "name": "#%%\n"
    }
   }
  },
  {
   "cell_type": "code",
   "execution_count": null,
   "outputs": [],
   "source": [
    "print(f\"train completed, \"\n",
    "      f\"best_metric: {best_metric:.4f}  \"\n",
    "      f\"at step: {best_metric_step}\")"
   ],
   "metadata": {
    "collapsed": false,
    "pycharm": {
     "name": "#%%\n"
    }
   }
  },
  {
   "cell_type": "markdown",
   "source": [
    "#### Plot the loss and metric"
   ],
   "metadata": {
    "collapsed": false
   }
  },
  {
   "cell_type": "code",
   "execution_count": null,
   "outputs": [],
   "source": [
    "plt.figure(\"train\", (12, 6))\n",
    "plt.subplot(1, 2, 1)\n",
    "plt.title(\"Epoch Average Loss\")\n",
    "x = [(i + 1) * val_period for i in range(len(loss_values))]\n",
    "y = loss_values\n",
    "plt.xlabel(\"step\")\n",
    "plt.plot(x, y)\n",
    "plt.subplot(1, 2, 2)\n",
    "plt.title(\"Val Mean Image Similarity\")\n",
    "x = [(i + 1) * val_period for i in range(len(metric_values))]\n",
    "y = metric_values\n",
    "plt.xlabel(\"step\")\n",
    "plt.plot(x, y)\n",
    "plt.show()"
   ],
   "metadata": {
    "collapsed": false,
    "pycharm": {
     "name": "#%%\n"
    }
   }
  },
  {
   "cell_type": "markdown",
   "source": [
    "#### Check best model output with the input image and label"
   ],
   "metadata": {
    "collapsed": false
   }
  },
  {
   "cell_type": "code",
   "execution_count": null,
   "outputs": [],
   "source": [
    "model.load_state_dict(torch.load(os.path.join(root_dir, \"best_metric_model.pth\")))\n",
    "model.eval()\n",
    "with torch.no_grad():\n",
    "    for i, val_data in enumerate(val_loader):\n",
    "        val_ddf, val_pred_image = forward(val_data, model, dvf2ddf)\n",
    "\n",
    "        # plot the slice [:, :, 80]\n",
    "        plt.figure(\"check\", (18, 6))\n",
    "        plt.subplot(1, 3, 1)\n",
    "        plt.title(f\"moving_image {i}\")\n",
    "        plt.imshow(val_data[\"moving_image\"][0, 0, :, :, 50], cmap=\"gray\")\n",
    "        plt.subplot(1, 3, 2)\n",
    "        plt.title(f\"fixed_image {i}\")\n",
    "        plt.imshow(val_data[\"fixed_image\"][0, 0, :, :, 50], cmap=\"gray\")\n",
    "        plt.subplot(1, 3, 3)\n",
    "        plt.title(f\"pred_image {i}\")\n",
    "        plt.imshow(val_pred_image[0, 0, :, :, 50], cmap=\"gray\")\n",
    "        plt.show()\n"
   ],
   "metadata": {
    "collapsed": false,
    "pycharm": {
     "name": "#%%\n"
    }
   }
  },
  {
   "cell_type": "markdown",
   "source": [
    "## Cleanup data directory\n",
    "\n",
    "Remove directory if a temporary was used."
   ],
   "metadata": {
    "collapsed": false
   }
  },
  {
   "cell_type": "code",
   "execution_count": null,
   "outputs": [],
   "source": [
    "if directory is None:\n",
    "    shutil.rmtree(root_dir)"
   ],
   "metadata": {
    "collapsed": false,
    "pycharm": {
     "name": "#%%\n"
    }
   }
  }
 ],
 "metadata": {
  "kernelspec": {
   "display_name": "Python 3",
   "language": "python",
   "name": "python3"
  },
  "language_info": {
   "codemirror_mode": {
    "name": "ipython",
    "version": 2
   },
   "file_extension": ".py",
   "mimetype": "text/x-python",
   "name": "python",
   "nbconvert_exporter": "python",
   "pygments_lexer": "ipython2",
   "version": "2.7.6"
  }
 },
 "nbformat": 4,
 "nbformat_minor": 0
}